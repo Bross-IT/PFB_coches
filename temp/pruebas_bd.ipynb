{
 "cells": [
  {
   "cell_type": "code",
   "execution_count": 1,
   "metadata": {},
   "outputs": [],
   "source": [
    "import os\n",
    "import sys\n",
    "\n",
    "notebook_path = os.path.abspath(\".\")\n",
    "sys.path.append(os.path.abspath(os.path.join(notebook_path, '..', 'src')))\n",
    "\n",
    "from ocasionDataBase import load_config\n",
    "from ocasionDataBase import OcasionDataBase"
   ]
  },
  {
   "cell_type": "code",
   "execution_count": 2,
   "metadata": {},
   "outputs": [],
   "source": [
    "ruta_config = \"../.streamlit/secrets.toml\"\n",
    "dict_config = load_config(ruta_config, \"database_user\")\n",
    "\n",
    "db = OcasionDataBase(dict_config)"
   ]
  },
  {
   "cell_type": "code",
   "execution_count": null,
   "metadata": {},
   "outputs": [],
   "source": [
    "db.process_csv_concesionarios(\"../data/concesionarios_limpio.csv\")\n",
    "db.process_csv_coches(\"../data/coches_consolidado_limpio.csv\")"
   ]
  },
  {
   "cell_type": "code",
   "execution_count": null,
   "metadata": {},
   "outputs": [],
   "source": []
  }
 ],
 "metadata": {
  "kernelspec": {
   "display_name": ".venv",
   "language": "python",
   "name": "python3"
  },
  "language_info": {
   "codemirror_mode": {
    "name": "ipython",
    "version": 3
   },
   "file_extension": ".py",
   "mimetype": "text/x-python",
   "name": "python",
   "nbconvert_exporter": "python",
   "pygments_lexer": "ipython3",
   "version": "3.12.4"
  }
 },
 "nbformat": 4,
 "nbformat_minor": 2
}
