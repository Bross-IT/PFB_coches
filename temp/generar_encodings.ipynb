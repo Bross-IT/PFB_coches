{
 "cells": [
  {
   "cell_type": "code",
   "execution_count": 1,
   "metadata": {},
   "outputs": [],
   "source": [
    "import numpy as np\n",
    "import pandas as pd\n",
    "\n",
    "import pickle\n",
    "from sklearn.preprocessing import OneHotEncoder, LabelEncoder\n",
    "import category_encoders as ce\n",
    "from sklearn.model_selection import train_test_split\n",
    "from sklearn.preprocessing import MinMaxScaler\n",
    "\n",
    "import seaborn as sns\n",
    "\n",
    "import sys\n",
    "import os\n"
   ]
  },
  {
   "cell_type": "code",
   "execution_count": 2,
   "metadata": {},
   "outputs": [
    {
     "name": "stdout",
     "output_type": "stream",
     "text": [
      "['c:\\\\Users\\\\Jocawl\\\\anaconda3\\\\python312.zip', 'c:\\\\Users\\\\Jocawl\\\\anaconda3\\\\DLLs', 'c:\\\\Users\\\\Jocawl\\\\anaconda3\\\\Lib', 'c:\\\\Users\\\\Jocawl\\\\anaconda3', 'e:\\\\hackABoss\\\\pfb-coches\\\\.venv', '', 'e:\\\\hackABoss\\\\pfb-coches\\\\.venv\\\\Lib\\\\site-packages', 'e:\\\\hackABoss\\\\pfb-coches\\\\.venv\\\\Lib\\\\site-packages\\\\win32', 'e:\\\\hackABoss\\\\pfb-coches\\\\.venv\\\\Lib\\\\site-packages\\\\win32\\\\lib', 'e:\\\\hackABoss\\\\pfb-coches\\\\.venv\\\\Lib\\\\site-packages\\\\Pythonwin', 'e:\\\\hackABoss\\\\pfb-coches\\\\src']\n"
     ]
    }
   ],
   "source": [
    "notebook_path = os.path.abspath(\".\")\n",
    "sys.path.append(os.path.abspath(os.path.join(notebook_path, '..', 'src')))\n",
    "print(sys.path)\n"
   ]
  },
  {
   "cell_type": "code",
   "execution_count": 8,
   "metadata": {},
   "outputs": [],
   "source": [
    "from limpieza import limpia\n",
    "import encoding_func"
   ]
  },
  {
   "cell_type": "code",
   "execution_count": 3,
   "metadata": {},
   "outputs": [
    {
     "data": {
      "text/html": [
       "<div>\n",
       "<style scoped>\n",
       "    .dataframe tbody tr th:only-of-type {\n",
       "        vertical-align: middle;\n",
       "    }\n",
       "\n",
       "    .dataframe tbody tr th {\n",
       "        vertical-align: top;\n",
       "    }\n",
       "\n",
       "    .dataframe thead th {\n",
       "        text-align: right;\n",
       "    }\n",
       "</style>\n",
       "<table border=\"1\" class=\"dataframe\">\n",
       "  <thead>\n",
       "    <tr style=\"text-align: right;\">\n",
       "      <th></th>\n",
       "      <th>modelo_titulo</th>\n",
       "      <th>provincia</th>\n",
       "      <th>kilometraje</th>\n",
       "      <th>combustible</th>\n",
       "      <th>distintivo_ambiental</th>\n",
       "      <th>garantia</th>\n",
       "      <th>cambio_automatico</th>\n",
       "      <th>carroceria</th>\n",
       "      <th>plazas</th>\n",
       "      <th>potencia</th>\n",
       "      <th>...</th>\n",
       "      <th>referencia</th>\n",
       "      <th>url</th>\n",
       "      <th>ruta_imagen</th>\n",
       "      <th>marca_sola</th>\n",
       "      <th>mes_matricula</th>\n",
       "      <th>anio_matricula</th>\n",
       "      <th>nombre_vendedor</th>\n",
       "      <th>peninsula_y_baleares</th>\n",
       "      <th>comunidad</th>\n",
       "      <th>potencia_segmentado</th>\n",
       "    </tr>\n",
       "  </thead>\n",
       "  <tbody>\n",
       "    <tr>\n",
       "      <th>0</th>\n",
       "      <td>XC40 D4 R-Design Premium Edition AWD Aut.</td>\n",
       "      <td>Madrid</td>\n",
       "      <td>115000</td>\n",
       "      <td>Diésel</td>\n",
       "      <td>C</td>\n",
       "      <td>12.0</td>\n",
       "      <td>True</td>\n",
       "      <td>Todo Terreno</td>\n",
       "      <td>5.0</td>\n",
       "      <td>190.0</td>\n",
       "      <td>...</td>\n",
       "      <td>15483995</td>\n",
       "      <td>https://www.autocasion.com/coches-segunda-mano...</td>\n",
       "      <td>E:\\hackABoss\\pfb-coches\\src\\extraction/../../i...</td>\n",
       "      <td>VOLVO</td>\n",
       "      <td>1</td>\n",
       "      <td>2019</td>\n",
       "      <td>INDIVIDUAL AUTO SL\\r\\n</td>\n",
       "      <td>True</td>\n",
       "      <td>Comunidad de Madrid</td>\n",
       "      <td>150-200</td>\n",
       "    </tr>\n",
       "    <tr>\n",
       "      <th>1</th>\n",
       "      <td>Clase GLC Todoterreno Automático de 5 Puertas</td>\n",
       "      <td>Málaga</td>\n",
       "      <td>15000</td>\n",
       "      <td>Híbrido Enchufable</td>\n",
       "      <td>0 EMISIONES</td>\n",
       "      <td>12.0</td>\n",
       "      <td>True</td>\n",
       "      <td>4x4, SUV o pickup</td>\n",
       "      <td>5.0</td>\n",
       "      <td>330.0</td>\n",
       "      <td>...</td>\n",
       "      <td>15509915</td>\n",
       "      <td>https://www.autocasion.com/coches-segunda-mano...</td>\n",
       "      <td>E:\\hackABoss\\pfb-coches\\src\\extraction/../../i...</td>\n",
       "      <td>MERCEDES-BENZ</td>\n",
       "      <td>5</td>\n",
       "      <td>2023</td>\n",
       "      <td>AUTOS DANIEL\\r\\n</td>\n",
       "      <td>True</td>\n",
       "      <td>Andalucía</td>\n",
       "      <td>300-450</td>\n",
       "    </tr>\n",
       "    <tr>\n",
       "      <th>2</th>\n",
       "      <td>C5 X 1.6 Puretech Shine EAT8 180</td>\n",
       "      <td>Burgos</td>\n",
       "      <td>36777</td>\n",
       "      <td>Gasolina</td>\n",
       "      <td>C</td>\n",
       "      <td>16.0</td>\n",
       "      <td>True</td>\n",
       "      <td>Berlina</td>\n",
       "      <td>5.0</td>\n",
       "      <td>180.0</td>\n",
       "      <td>...</td>\n",
       "      <td>14540815</td>\n",
       "      <td>https://www.autocasion.com/coches-segunda-mano...</td>\n",
       "      <td>E:\\hackABoss\\pfb-coches\\src\\extraction/../../i...</td>\n",
       "      <td>CITROEN</td>\n",
       "      <td>6</td>\n",
       "      <td>2022</td>\n",
       "      <td>MOTOR ARANDA, VO\\r\\n</td>\n",
       "      <td>True</td>\n",
       "      <td>Castilla y León</td>\n",
       "      <td>150-200</td>\n",
       "    </tr>\n",
       "  </tbody>\n",
       "</table>\n",
       "<p>3 rows × 27 columns</p>\n",
       "</div>"
      ],
      "text/plain": [
       "                                   modelo_titulo provincia  kilometraje  \\\n",
       "0      XC40 D4 R-Design Premium Edition AWD Aut.    Madrid       115000   \n",
       "1  Clase GLC Todoterreno Automático de 5 Puertas    Málaga        15000   \n",
       "2               C5 X 1.6 Puretech Shine EAT8 180    Burgos        36777   \n",
       "\n",
       "          combustible distintivo_ambiental  garantia  cambio_automatico  \\\n",
       "0              Diésel                    C      12.0               True   \n",
       "1  Híbrido Enchufable          0 EMISIONES      12.0               True   \n",
       "2            Gasolina                    C      16.0               True   \n",
       "\n",
       "          carroceria  plazas  potencia  ...  referencia  \\\n",
       "0       Todo Terreno     5.0     190.0  ...    15483995   \n",
       "1  4x4, SUV o pickup     5.0     330.0  ...    15509915   \n",
       "2            Berlina     5.0     180.0  ...    14540815   \n",
       "\n",
       "                                                 url  \\\n",
       "0  https://www.autocasion.com/coches-segunda-mano...   \n",
       "1  https://www.autocasion.com/coches-segunda-mano...   \n",
       "2  https://www.autocasion.com/coches-segunda-mano...   \n",
       "\n",
       "                                         ruta_imagen     marca_sola  \\\n",
       "0  E:\\hackABoss\\pfb-coches\\src\\extraction/../../i...          VOLVO   \n",
       "1  E:\\hackABoss\\pfb-coches\\src\\extraction/../../i...  MERCEDES-BENZ   \n",
       "2  E:\\hackABoss\\pfb-coches\\src\\extraction/../../i...        CITROEN   \n",
       "\n",
       "   mes_matricula  anio_matricula         nombre_vendedor  \\\n",
       "0              1            2019  INDIVIDUAL AUTO SL\\r\\n   \n",
       "1              5            2023        AUTOS DANIEL\\r\\n   \n",
       "2              6            2022    MOTOR ARANDA, VO\\r\\n   \n",
       "\n",
       "   peninsula_y_baleares            comunidad potencia_segmentado  \n",
       "0                  True  Comunidad de Madrid             150-200  \n",
       "1                  True            Andalucía             300-450  \n",
       "2                  True      Castilla y León             150-200  \n",
       "\n",
       "[3 rows x 27 columns]"
      ]
     },
     "execution_count": 3,
     "metadata": {},
     "output_type": "execute_result"
    }
   ],
   "source": [
    "df = limpia.tratamiento_nans(\"../data/coches_consolidado_limpio.csv\")\n",
    "df.head(3)"
   ]
  },
  {
   "cell_type": "code",
   "execution_count": 4,
   "metadata": {},
   "outputs": [
    {
     "name": "stdout",
     "output_type": "stream",
     "text": [
      "<class 'pandas.core.frame.DataFrame'>\n",
      "RangeIndex: 14523 entries, 0 to 14522\n",
      "Data columns (total 27 columns):\n",
      " #   Column                Non-Null Count  Dtype  \n",
      "---  ------                --------------  -----  \n",
      " 0   modelo_titulo         14523 non-null  object \n",
      " 1   provincia             14523 non-null  object \n",
      " 2   kilometraje           14523 non-null  int64  \n",
      " 3   combustible           14523 non-null  object \n",
      " 4   distintivo_ambiental  14523 non-null  object \n",
      " 5   garantia              14523 non-null  float64\n",
      " 6   cambio_automatico     14523 non-null  bool   \n",
      " 7   carroceria            14523 non-null  object \n",
      " 8   plazas                14523 non-null  float64\n",
      " 9   potencia              14523 non-null  float64\n",
      " 10  puertas               14523 non-null  int64  \n",
      " 11  color                 14523 non-null  object \n",
      " 12  precio                14520 non-null  float64\n",
      " 13  vendedor_profesional  14523 non-null  bool   \n",
      " 14  consumo_medio         14523 non-null  float64\n",
      " 15  certificado           14523 non-null  bool   \n",
      " 16  fecha_extraccion      14523 non-null  object \n",
      " 17  referencia            14523 non-null  int64  \n",
      " 18  url                   14523 non-null  object \n",
      " 19  ruta_imagen           14509 non-null  object \n",
      " 20  marca_sola            14523 non-null  object \n",
      " 21  mes_matricula         14523 non-null  int64  \n",
      " 22  anio_matricula        14523 non-null  int64  \n",
      " 23  nombre_vendedor       14520 non-null  object \n",
      " 24  peninsula_y_baleares  14523 non-null  bool   \n",
      " 25  comunidad             14523 non-null  object \n",
      " 26  potencia_segmentado   14523 non-null  object \n",
      "dtypes: bool(4), float64(5), int64(5), object(13)\n",
      "memory usage: 2.6+ MB\n"
     ]
    }
   ],
   "source": [
    "df.info()"
   ]
  },
  {
   "cell_type": "code",
   "execution_count": 5,
   "metadata": {},
   "outputs": [],
   "source": [
    "df_modelo = df.drop(columns=[\"modelo_titulo\", \"referencia\", \"url\", \"ruta_imagen\", \"fecha_extraccion\", \"nombre_vendedor\", \"garantia\"])\n"
   ]
  },
  {
   "cell_type": "code",
   "execution_count": 6,
   "metadata": {},
   "outputs": [
    {
     "data": {
      "text/plain": [
       "provincia               0\n",
       "kilometraje             0\n",
       "combustible             0\n",
       "distintivo_ambiental    0\n",
       "cambio_automatico       0\n",
       "carroceria              0\n",
       "plazas                  0\n",
       "potencia                0\n",
       "puertas                 0\n",
       "color                   0\n",
       "precio                  0\n",
       "vendedor_profesional    0\n",
       "consumo_medio           0\n",
       "certificado             0\n",
       "marca_sola              0\n",
       "mes_matricula           0\n",
       "anio_matricula          0\n",
       "peninsula_y_baleares    0\n",
       "comunidad               0\n",
       "potencia_segmentado     0\n",
       "dtype: int64"
      ]
     },
     "execution_count": 6,
     "metadata": {},
     "output_type": "execute_result"
    }
   ],
   "source": [
    "#Elimino filas con NaN en precio\n",
    "df_modelo = df_modelo.dropna(subset=[\"precio\"])\n",
    "df_modelo.isna().sum()\n"
   ]
  },
  {
   "cell_type": "code",
   "execution_count": 7,
   "metadata": {},
   "outputs": [
    {
     "name": "stdout",
     "output_type": "stream",
     "text": [
      "Pickle LE combustible_encoder.pickle generado.\n",
      "Pickle LE distintivo_ambiental_encoder.pickle generado.\n",
      "Pickle LE carroceria_encoder.pickle generado.\n",
      "Pickle LE color_encoder.pickle generado.\n",
      "Pickle OHE cambio_automatico_encoder.pickle generado.\n",
      "Pickle OHE vendedor_profesional_encoder.pickle generado.\n",
      "Pickle OHE certificado_encoder.pickle generado.\n",
      "Pickle OHE peninsula_y_baleares_encoder.pickle generado.\n"
     ]
    }
   ],
   "source": [
    "encoding_func.generar_pickle_label_encoding(df_modelo,[\"combustible\", \"distintivo_ambiental\", \"carroceria\", \"color\"])\n",
    "encoding_func.generar_pickle_onehot_encoding(df_modelo, [\"cambio_automatico\", \"vendedor_profesional\", \"certificado\", \"peninsula_y_baleares\"])"
   ]
  },
  {
   "cell_type": "code",
   "execution_count": 8,
   "metadata": {},
   "outputs": [],
   "source": [
    "with open(f\"../bin/cambio_automatico_encoder.pickle\", \"rb\") as file:\n",
    "    cambio_automatico_encoder = pickle.load(file)\n",
    "    \n",
    "with open(f\"../bin/carroceria_encoder.pickle\", \"rb\") as file:\n",
    "    carroceria_encoder = pickle.load(file)\n",
    "\n",
    "with open(f\"../bin/certificado_encoder.pickle\", \"rb\") as file:\n",
    "    certificado_encoder = pickle.load(file)\n",
    "\n",
    "with open(f\"../bin/color_encoder.pickle\", \"rb\") as file:\n",
    "    color_encoder = pickle.load(file)\n",
    "\n",
    "with open(f\"../bin/combustible_encoder.pickle\", \"rb\") as file:\n",
    "    combustible_encoder = pickle.load(file)\n",
    "\n",
    "with open(f\"../bin/distintivo_ambiental_encoder.pickle\", \"rb\") as file:\n",
    "    distintivo_ambiental_encoder = pickle.load(file)\n",
    "\n",
    "with open(f\"../bin/vendedor_profesional_encoder.pickle\", \"rb\") as file:\n",
    "    vendedor_profesional_encoder = pickle.load(file)\n",
    "    \n",
    "with open(f\"../bin/peninsula_y_baleares_encoder.pickle\", \"rb\") as file:\n",
    "    peninsula_y_baleares_encoder = pickle.load(file)\n"
   ]
  },
  {
   "cell_type": "code",
   "execution_count": 9,
   "metadata": {},
   "outputs": [],
   "source": [
    "#Aplico la funcion log1p para que no de problemas con los valores cero\n",
    "df_modelo[\"precio\"] = np.log1p(df_modelo[\"precio\"])\n",
    "df_modelo[\"kilometraje\"] = np.log1p(df_modelo[\"kilometraje\"])"
   ]
  },
  {
   "cell_type": "code",
   "execution_count": 10,
   "metadata": {},
   "outputs": [],
   "source": [
    "df_modelo[\"combustible\"] = combustible_encoder.transform(df_modelo[\"combustible\"].astype(str))\n",
    "df_modelo[\"carroceria\"] = carroceria_encoder.transform(df_modelo[\"carroceria\"].astype(str))\n",
    "df_modelo[\"color\"] = color_encoder.transform(df_modelo[\"color\"].astype(str))\n",
    "df_modelo[\"distintivo_ambiental\"] = distintivo_ambiental_encoder.transform(df_modelo[\"distintivo_ambiental\"].astype(str))\n"
   ]
  },
  {
   "cell_type": "code",
   "execution_count": 11,
   "metadata": {},
   "outputs": [],
   "source": [
    "df_modelo[\"cambio_automatico\"] = cambio_automatico_encoder.transform(df_modelo[[\"cambio_automatico\"]])\n",
    "df_modelo[\"certificado\"] = certificado_encoder.transform(df_modelo[[\"certificado\"]])\n",
    "df_modelo[\"peninsula_y_baleares\"] = peninsula_y_baleares_encoder.transform(df_modelo[[\"peninsula_y_baleares\"]])\n",
    "df_modelo[\"vendedor_profesional\"] = vendedor_profesional_encoder.transform(df_modelo[[\"vendedor_profesional\"]])\n"
   ]
  },
  {
   "cell_type": "code",
   "execution_count": 13,
   "metadata": {},
   "outputs": [
    {
     "data": {
      "text/plain": [
       "Index(['provincia', 'kilometraje', 'combustible', 'distintivo_ambiental',\n",
       "       'cambio_automatico', 'carroceria', 'plazas', 'potencia', 'puertas',\n",
       "       'color', 'precio', 'vendedor_profesional', 'consumo_medio',\n",
       "       'certificado', 'marca_sola', 'mes_matricula', 'anio_matricula',\n",
       "       'peninsula_y_baleares', 'comunidad', 'potencia_segmentado'],\n",
       "      dtype='object')"
      ]
     },
     "execution_count": 13,
     "metadata": {},
     "output_type": "execute_result"
    }
   ],
   "source": [
    "df_modelo.columns"
   ]
  },
  {
   "cell_type": "code",
   "execution_count": 18,
   "metadata": {},
   "outputs": [],
   "source": [
    "df_modelo = df_modelo[['kilometraje', 'cambio_automatico', 'potencia', 'marca_sola', 'anio_matricula', 'precio']]"
   ]
  },
  {
   "cell_type": "code",
   "execution_count": 20,
   "metadata": {},
   "outputs": [
    {
     "name": "stdout",
     "output_type": "stream",
     "text": [
      "Pickle TE marca_sola_precio_encoder.pickle generado.\n"
     ]
    }
   ],
   "source": [
    "TARGET = \"precio\"\n",
    "X_train, X_test, y_train, y_test = encoding_func.dividir_dataframe(df_modelo, TARGET)\n",
    "\n",
    "encoding_func.generar_pickle_target_encoding(X_train, y_train, [ \"marca_sola\"], TARGET)"
   ]
  },
  {
   "cell_type": "code",
   "execution_count": 21,
   "metadata": {},
   "outputs": [],
   "source": [
    "with open(f\"../bin/marca_sola_precio_encoder.pickle\", \"rb\") as file:\n",
    "    marca_sola_precio_encoder = pickle.load(file)\n",
    "\n",
    "with open(f\"../bin/potencia_segmentado_precio_encoder.pickle\", \"rb\") as file:\n",
    "    potencia_segmentado_precio_encoder = pickle.load(file)\n",
    "\n",
    "with open(f\"../bin/provincia_precio_encoder.pickle\", \"rb\") as file:\n",
    "    provincia_precio_encoder = pickle.load(file)\n",
    "\n",
    "with open(f\"../bin/comunidad_precio_encoder.pickle\", \"rb\") as file:\n",
    "    comunidad_precio_encoder = pickle.load(file)\n"
   ]
  },
  {
   "cell_type": "code",
   "execution_count": 22,
   "metadata": {},
   "outputs": [],
   "source": [
    "X_train[\"marca_sola\"] = marca_sola_precio_encoder.transform(X_train[\"marca_sola\"])\n",
    "\n",
    "X_test[\"marca_sola\"] = marca_sola_precio_encoder.transform(X_test[\"marca_sola\"])"
   ]
  },
  {
   "cell_type": "code",
   "execution_count": 23,
   "metadata": {},
   "outputs": [
    {
     "name": "stdout",
     "output_type": "stream",
     "text": [
      "<class 'pandas.core.frame.DataFrame'>\n",
      "Index: 11616 entries, 5516 to 7272\n",
      "Data columns (total 5 columns):\n",
      " #   Column             Non-Null Count  Dtype  \n",
      "---  ------             --------------  -----  \n",
      " 0   kilometraje        11616 non-null  float64\n",
      " 1   cambio_automatico  11616 non-null  float64\n",
      " 2   potencia           11616 non-null  float64\n",
      " 3   marca_sola         11616 non-null  float64\n",
      " 4   anio_matricula     11616 non-null  int64  \n",
      "dtypes: float64(4), int64(1)\n",
      "memory usage: 544.5 KB\n"
     ]
    }
   ],
   "source": [
    "X_train.info()"
   ]
  },
  {
   "cell_type": "code",
   "execution_count": 24,
   "metadata": {},
   "outputs": [
    {
     "name": "stdout",
     "output_type": "stream",
     "text": [
      "<class 'pandas.core.frame.DataFrame'>\n",
      "Index: 2904 entries, 11296 to 562\n",
      "Data columns (total 5 columns):\n",
      " #   Column             Non-Null Count  Dtype  \n",
      "---  ------             --------------  -----  \n",
      " 0   kilometraje        2904 non-null   float64\n",
      " 1   cambio_automatico  2904 non-null   float64\n",
      " 2   potencia           2904 non-null   float64\n",
      " 3   marca_sola         2904 non-null   float64\n",
      " 4   anio_matricula     2904 non-null   int64  \n",
      "dtypes: float64(4), int64(1)\n",
      "memory usage: 136.1 KB\n"
     ]
    }
   ],
   "source": [
    "X_test.info()"
   ]
  },
  {
   "cell_type": "code",
   "execution_count": 25,
   "metadata": {},
   "outputs": [
    {
     "data": {
      "text/html": [
       "<div>\n",
       "<style scoped>\n",
       "    .dataframe tbody tr th:only-of-type {\n",
       "        vertical-align: middle;\n",
       "    }\n",
       "\n",
       "    .dataframe tbody tr th {\n",
       "        vertical-align: top;\n",
       "    }\n",
       "\n",
       "    .dataframe thead th {\n",
       "        text-align: right;\n",
       "    }\n",
       "</style>\n",
       "<table border=\"1\" class=\"dataframe\">\n",
       "  <thead>\n",
       "    <tr style=\"text-align: right;\">\n",
       "      <th></th>\n",
       "      <th>kilometraje</th>\n",
       "      <th>cambio_automatico</th>\n",
       "      <th>potencia</th>\n",
       "      <th>marca_sola</th>\n",
       "      <th>anio_matricula</th>\n",
       "    </tr>\n",
       "  </thead>\n",
       "  <tbody>\n",
       "    <tr>\n",
       "      <th>5516</th>\n",
       "      <td>11.968735</td>\n",
       "      <td>1.0</td>\n",
       "      <td>177.0</td>\n",
       "      <td>10.464717</td>\n",
       "      <td>2015</td>\n",
       "    </tr>\n",
       "    <tr>\n",
       "      <th>3893</th>\n",
       "      <td>11.259683</td>\n",
       "      <td>0.0</td>\n",
       "      <td>130.0</td>\n",
       "      <td>9.764679</td>\n",
       "      <td>2019</td>\n",
       "    </tr>\n",
       "    <tr>\n",
       "      <th>640</th>\n",
       "      <td>10.860824</td>\n",
       "      <td>0.0</td>\n",
       "      <td>150.0</td>\n",
       "      <td>9.980030</td>\n",
       "      <td>2023</td>\n",
       "    </tr>\n",
       "  </tbody>\n",
       "</table>\n",
       "</div>"
      ],
      "text/plain": [
       "      kilometraje  cambio_automatico  potencia  marca_sola  anio_matricula\n",
       "5516    11.968735                1.0     177.0   10.464717            2015\n",
       "3893    11.259683                0.0     130.0    9.764679            2019\n",
       "640     10.860824                0.0     150.0    9.980030            2023"
      ]
     },
     "execution_count": 25,
     "metadata": {},
     "output_type": "execute_result"
    }
   ],
   "source": [
    "X_train.head(3)"
   ]
  },
  {
   "cell_type": "code",
   "execution_count": 26,
   "metadata": {},
   "outputs": [],
   "source": [
    "scaler = MinMaxScaler()\n",
    "scaler.set_output(transform=\"pandas\")\n",
    "\n",
    "X_train_escalado = pd.DataFrame(scaler.fit_transform(X_train), columns=X_train.columns)\n",
    "X_test_escalado = pd.DataFrame(scaler.transform(X_test), columns=X_test.columns)\n",
    "\n",
    "with open(f\"../bin/min_max_scaler.pickle\", \"wb\") as file:\n",
    "    pickle.dump(scaler, file)"
   ]
  }
 ],
 "metadata": {
  "kernelspec": {
   "display_name": ".venv",
   "language": "python",
   "name": "python3"
  },
  "language_info": {
   "codemirror_mode": {
    "name": "ipython",
    "version": 3
   },
   "file_extension": ".py",
   "mimetype": "text/x-python",
   "name": "python",
   "nbconvert_exporter": "python",
   "pygments_lexer": "ipython3",
   "version": "3.12.4"
  }
 },
 "nbformat": 4,
 "nbformat_minor": 2
}
