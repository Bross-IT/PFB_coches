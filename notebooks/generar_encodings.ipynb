{
 "cells": [
  {
   "cell_type": "code",
   "execution_count": 31,
   "metadata": {},
   "outputs": [],
   "source": [
    "import numpy as np\n",
    "import pandas as pd\n",
    "\n",
    "import pickle\n",
    "from sklearn.preprocessing import OneHotEncoder, LabelEncoder\n",
    "import category_encoders as ce\n",
    "from sklearn.model_selection import train_test_split\n",
    "from sklearn.preprocessing import MinMaxScaler\n",
    "\n",
    "import sys\n",
    "import os\n"
   ]
  },
  {
   "cell_type": "code",
   "execution_count": 32,
   "metadata": {},
   "outputs": [
    {
     "name": "stdout",
     "output_type": "stream",
     "text": [
      "['c:\\\\Users\\\\Jocawl\\\\anaconda3\\\\python312.zip', 'c:\\\\Users\\\\Jocawl\\\\anaconda3\\\\DLLs', 'c:\\\\Users\\\\Jocawl\\\\anaconda3\\\\Lib', 'c:\\\\Users\\\\Jocawl\\\\anaconda3', 'e:\\\\hackABoss\\\\pfb-coches\\\\.venv', '', 'e:\\\\hackABoss\\\\pfb-coches\\\\.venv\\\\Lib\\\\site-packages', 'e:\\\\hackABoss\\\\pfb-coches\\\\.venv\\\\Lib\\\\site-packages\\\\win32', 'e:\\\\hackABoss\\\\pfb-coches\\\\.venv\\\\Lib\\\\site-packages\\\\win32\\\\lib', 'e:\\\\hackABoss\\\\pfb-coches\\\\.venv\\\\Lib\\\\site-packages\\\\Pythonwin', 'e:\\\\hackABoss\\\\pfb-coches\\\\src', 'e:\\\\hackABoss\\\\pfb-coches\\\\src']\n"
     ]
    }
   ],
   "source": [
    "notebook_path = os.path.abspath(\".\")\n",
    "sys.path.append(os.path.abspath(os.path.join(notebook_path, '..', 'src')))\n",
    "print(sys.path)\n"
   ]
  },
  {
   "cell_type": "code",
   "execution_count": 33,
   "metadata": {},
   "outputs": [],
   "source": [
    "from limpieza import transforma_ML\n",
    "import encoding_func\n",
    "import ocasionDataBase as odb"
   ]
  },
  {
   "cell_type": "code",
   "execution_count": 34,
   "metadata": {},
   "outputs": [
    {
     "data": {
      "text/html": [
       "<div>\n",
       "<style scoped>\n",
       "    .dataframe tbody tr th:only-of-type {\n",
       "        vertical-align: middle;\n",
       "    }\n",
       "\n",
       "    .dataframe tbody tr th {\n",
       "        vertical-align: top;\n",
       "    }\n",
       "\n",
       "    .dataframe thead th {\n",
       "        text-align: right;\n",
       "    }\n",
       "</style>\n",
       "<table border=\"1\" class=\"dataframe\">\n",
       "  <thead>\n",
       "    <tr style=\"text-align: right;\">\n",
       "      <th></th>\n",
       "      <th>referencia</th>\n",
       "      <th>peninsula_baleares</th>\n",
       "      <th>combustible</th>\n",
       "      <th>potencia</th>\n",
       "      <th>cambio_automatico</th>\n",
       "      <th>carroceria</th>\n",
       "      <th>kilometraje</th>\n",
       "      <th>distintivo_ambiental</th>\n",
       "      <th>color</th>\n",
       "      <th>garantia</th>\n",
       "      <th>...</th>\n",
       "      <th>consumo</th>\n",
       "      <th>modelo_titulo</th>\n",
       "      <th>marca_sola</th>\n",
       "      <th>antiguedad</th>\n",
       "      <th>precio</th>\n",
       "      <th>mes_matricula</th>\n",
       "      <th>anio_matricula</th>\n",
       "      <th>concesionario</th>\n",
       "      <th>url</th>\n",
       "      <th>ruta_imagen</th>\n",
       "    </tr>\n",
       "  </thead>\n",
       "  <tbody>\n",
       "    <tr>\n",
       "      <th>0</th>\n",
       "      <td>3660837</td>\n",
       "      <td>1</td>\n",
       "      <td>Diésel</td>\n",
       "      <td>245</td>\n",
       "      <td>1</td>\n",
       "      <td>Berlina</td>\n",
       "      <td>179000</td>\n",
       "      <td>B</td>\n",
       "      <td>OTROS</td>\n",
       "      <td>16</td>\n",
       "      <td>...</td>\n",
       "      <td>5.89</td>\n",
       "      <td>Serie 7 730 D**COMO NUEVO**PACK M**FULL**NACIONAL</td>\n",
       "      <td>BMW</td>\n",
       "      <td>14</td>\n",
       "      <td>19900.0</td>\n",
       "      <td>6</td>\n",
       "      <td>2011</td>\n",
       "      <td>BETULO GLOBAL</td>\n",
       "      <td>https://www.autocasion.com/coches-segunda-mano...</td>\n",
       "      <td>img/coches/33ba47613800fe88de63bddd9cdb1adf.jpeg</td>\n",
       "    </tr>\n",
       "    <tr>\n",
       "      <th>1</th>\n",
       "      <td>3938343</td>\n",
       "      <td>1</td>\n",
       "      <td>Gasolina</td>\n",
       "      <td>272</td>\n",
       "      <td>1</td>\n",
       "      <td>Deportivo o coupé</td>\n",
       "      <td>148000</td>\n",
       "      <td>C</td>\n",
       "      <td>NEGRO</td>\n",
       "      <td>12</td>\n",
       "      <td>...</td>\n",
       "      <td>8.00</td>\n",
       "      <td>Serie 3 330xi Coupé Aut.</td>\n",
       "      <td>BMW</td>\n",
       "      <td>18</td>\n",
       "      <td>13500.0</td>\n",
       "      <td>1</td>\n",
       "      <td>2007</td>\n",
       "      <td>ESTANY AUTOMOCIÓ</td>\n",
       "      <td>https://www.autocasion.com/coches-segunda-mano...</td>\n",
       "      <td>img/coches/7bec3bde6858ae760b925671dc7734bf095...</td>\n",
       "    </tr>\n",
       "    <tr>\n",
       "      <th>2</th>\n",
       "      <td>4683324</td>\n",
       "      <td>1</td>\n",
       "      <td>Gasolina</td>\n",
       "      <td>262</td>\n",
       "      <td>1</td>\n",
       "      <td>Monovolumen</td>\n",
       "      <td>46400</td>\n",
       "      <td>C</td>\n",
       "      <td>BLANCO</td>\n",
       "      <td>16</td>\n",
       "      <td>...</td>\n",
       "      <td>5.89</td>\n",
       "      <td>Sienna 3.5L V6 AWD XLE</td>\n",
       "      <td>TOYOTA</td>\n",
       "      <td>6</td>\n",
       "      <td>71800.0</td>\n",
       "      <td>5</td>\n",
       "      <td>2019</td>\n",
       "      <td>EUROPEAN AUTO BROKER</td>\n",
       "      <td>https://www.autocasion.com/coches-segunda-mano...</td>\n",
       "      <td>img/coches/4683324-0-2934626031657bffc934c466....</td>\n",
       "    </tr>\n",
       "  </tbody>\n",
       "</table>\n",
       "<p>3 rows × 25 columns</p>\n",
       "</div>"
      ],
      "text/plain": [
       "   referencia  peninsula_baleares combustible  potencia  cambio_automatico  \\\n",
       "0     3660837                   1      Diésel       245                  1   \n",
       "1     3938343                   1    Gasolina       272                  1   \n",
       "2     4683324                   1    Gasolina       262                  1   \n",
       "\n",
       "          carroceria  kilometraje distintivo_ambiental   color  garantia  ...  \\\n",
       "0            Berlina       179000                    B   OTROS        16  ...   \n",
       "1  Deportivo o coupé       148000                    C   NEGRO        12  ...   \n",
       "2        Monovolumen        46400                    C  BLANCO        16  ...   \n",
       "\n",
       "   consumo                                      modelo_titulo  marca_sola  \\\n",
       "0     5.89  Serie 7 730 D**COMO NUEVO**PACK M**FULL**NACIONAL         BMW   \n",
       "1     8.00                           Serie 3 330xi Coupé Aut.         BMW   \n",
       "2     5.89                             Sienna 3.5L V6 AWD XLE      TOYOTA   \n",
       "\n",
       "   antiguedad   precio  mes_matricula anio_matricula         concesionario  \\\n",
       "0          14  19900.0              6           2011         BETULO GLOBAL   \n",
       "1          18  13500.0              1           2007      ESTANY AUTOMOCIÓ   \n",
       "2           6  71800.0              5           2019  EUROPEAN AUTO BROKER   \n",
       "\n",
       "                                                 url  \\\n",
       "0  https://www.autocasion.com/coches-segunda-mano...   \n",
       "1  https://www.autocasion.com/coches-segunda-mano...   \n",
       "2  https://www.autocasion.com/coches-segunda-mano...   \n",
       "\n",
       "                                         ruta_imagen  \n",
       "0   img/coches/33ba47613800fe88de63bddd9cdb1adf.jpeg  \n",
       "1  img/coches/7bec3bde6858ae760b925671dc7734bf095...  \n",
       "2  img/coches/4683324-0-2934626031657bffc934c466....  \n",
       "\n",
       "[3 rows x 25 columns]"
      ]
     },
     "execution_count": 34,
     "metadata": {},
     "output_type": "execute_result"
    }
   ],
   "source": [
    "ruta_config: str = \"../.streamlit/secrets.toml\"\n",
    "dict_config: dict = odb.load_config(ruta_config, \"database_user\")\n",
    "\n",
    "db: odb.OcasionDataBase = odb.OcasionDataBase(dict_config)\n",
    "\n",
    "df: pd.DataFrame = pd.DataFrame(db.obtener_coches_venta())\n",
    "df.head(3)"
   ]
  },
  {
   "cell_type": "code",
   "execution_count": 35,
   "metadata": {},
   "outputs": [
    {
     "name": "stdout",
     "output_type": "stream",
     "text": [
      "<class 'pandas.core.frame.DataFrame'>\n",
      "RangeIndex: 19890 entries, 0 to 19889\n",
      "Data columns (total 25 columns):\n",
      " #   Column                Non-Null Count  Dtype         \n",
      "---  ------                --------------  -----         \n",
      " 0   referencia            19890 non-null  int64         \n",
      " 1   peninsula_baleares    19890 non-null  int64         \n",
      " 2   combustible           19890 non-null  object        \n",
      " 3   potencia              19890 non-null  int64         \n",
      " 4   cambio_automatico     19890 non-null  int64         \n",
      " 5   carroceria            19890 non-null  object        \n",
      " 6   kilometraje           19890 non-null  int64         \n",
      " 7   distintivo_ambiental  19890 non-null  object        \n",
      " 8   color                 19890 non-null  object        \n",
      " 9   garantia              19890 non-null  int64         \n",
      " 10  vendedor_profesional  19890 non-null  int64         \n",
      " 11  plazas                19890 non-null  int64         \n",
      " 12  puertas               19890 non-null  int64         \n",
      " 13  certificado           19890 non-null  int64         \n",
      " 14  fecha_extraccion      19890 non-null  datetime64[ns]\n",
      " 15  consumo               19887 non-null  float64       \n",
      " 16  modelo_titulo         19890 non-null  object        \n",
      " 17  marca_sola            19890 non-null  object        \n",
      " 18  antiguedad            19890 non-null  int64         \n",
      " 19  precio                19882 non-null  float64       \n",
      " 20  mes_matricula         19890 non-null  int64         \n",
      " 21  anio_matricula        19890 non-null  int64         \n",
      " 22  concesionario         19852 non-null  object        \n",
      " 23  url                   19890 non-null  object        \n",
      " 24  ruta_imagen           19851 non-null  object        \n",
      "dtypes: datetime64[ns](1), float64(2), int64(13), object(9)\n",
      "memory usage: 3.8+ MB\n"
     ]
    }
   ],
   "source": [
    "df.info()"
   ]
  },
  {
   "cell_type": "code",
   "execution_count": 36,
   "metadata": {},
   "outputs": [],
   "source": [
    "df_modelo = df.drop(columns=[\"modelo_titulo\", \"referencia\", \"url\", \"ruta_imagen\", \"fecha_extraccion\", \"garantia\"])\n",
    "df_modelo = transforma_ML.normalizar(df_modelo, [\"kilometraje\", \"potencia\", \"precio\"])"
   ]
  },
  {
   "cell_type": "code",
   "execution_count": 37,
   "metadata": {},
   "outputs": [
    {
     "data": {
      "text/plain": [
       "peninsula_baleares       0\n",
       "combustible              0\n",
       "potencia                 0\n",
       "cambio_automatico        0\n",
       "carroceria               0\n",
       "kilometraje              0\n",
       "distintivo_ambiental     0\n",
       "color                    0\n",
       "vendedor_profesional     0\n",
       "plazas                   0\n",
       "puertas                  0\n",
       "certificado              0\n",
       "consumo                  3\n",
       "marca_sola               0\n",
       "antiguedad               0\n",
       "precio                   0\n",
       "mes_matricula            0\n",
       "anio_matricula           0\n",
       "concesionario           32\n",
       "dtype: int64"
      ]
     },
     "execution_count": 37,
     "metadata": {},
     "output_type": "execute_result"
    }
   ],
   "source": [
    "#Elimino filas con NaN en precio\n",
    "df_modelo = df_modelo.dropna(subset=[\"precio\"])\n",
    "df_modelo.isna().sum()\n"
   ]
  },
  {
   "cell_type": "code",
   "execution_count": 38,
   "metadata": {},
   "outputs": [
    {
     "name": "stdout",
     "output_type": "stream",
     "text": [
      "Pickle OHE cambio_automatico_encoder.pickle generado.\n"
     ]
    }
   ],
   "source": [
    "#encoding_func.generar_pickle_label_encoding(df_modelo,[\"combustible\", \"distintivo_ambiental\", \"carroceria\", \"color\"])\n",
    "encoding_func.generar_pickle_onehot_encoding(df_modelo, [\"cambio_automatico\"]) #[\"cambio_automatico\", \"vendedor_profesional\", \"certificado\", \"peninsula_y_baleares\"])"
   ]
  },
  {
   "cell_type": "code",
   "execution_count": 39,
   "metadata": {},
   "outputs": [],
   "source": [
    "with open(f\"../bin/cambio_automatico_encoder.pickle\", \"rb\") as file:\n",
    "    cambio_automatico_encoder = pickle.load(file)\n",
    "    "
   ]
  },
  {
   "cell_type": "code",
   "execution_count": 40,
   "metadata": {},
   "outputs": [],
   "source": [
    "#df_modelo[\"combustible\"] = combustible_encoder.transform(df_modelo[\"combustible\"].astype(str))\n",
    "#df_modelo[\"carroceria\"] = carroceria_encoder.transform(df_modelo[\"carroceria\"].astype(str))\n",
    "#df_modelo[\"color\"] = color_encoder.transform(df_modelo[\"color\"].astype(str))\n",
    "#df_modelo[\"distintivo_ambiental\"] = distintivo_ambiental_encoder.transform(df_modelo[\"distintivo_ambiental\"].astype(str))\n"
   ]
  },
  {
   "cell_type": "code",
   "execution_count": 41,
   "metadata": {},
   "outputs": [],
   "source": [
    "df_modelo[\"cambio_automatico\"] = cambio_automatico_encoder.transform(df_modelo[[\"cambio_automatico\"]])\n"
   ]
  },
  {
   "cell_type": "code",
   "execution_count": 42,
   "metadata": {},
   "outputs": [
    {
     "data": {
      "text/plain": [
       "Index(['peninsula_baleares', 'combustible', 'potencia', 'cambio_automatico',\n",
       "       'carroceria', 'kilometraje', 'distintivo_ambiental', 'color',\n",
       "       'vendedor_profesional', 'plazas', 'puertas', 'certificado', 'consumo',\n",
       "       'marca_sola', 'antiguedad', 'precio', 'mes_matricula', 'anio_matricula',\n",
       "       'concesionario'],\n",
       "      dtype='object')"
      ]
     },
     "execution_count": 42,
     "metadata": {},
     "output_type": "execute_result"
    }
   ],
   "source": [
    "df_modelo.columns"
   ]
  },
  {
   "cell_type": "code",
   "execution_count": 43,
   "metadata": {},
   "outputs": [],
   "source": [
    "df_modelo = df_modelo[['kilometraje', 'cambio_automatico', 'potencia', 'marca_sola', 'antiguedad', 'precio']]"
   ]
  },
  {
   "cell_type": "code",
   "execution_count": 44,
   "metadata": {},
   "outputs": [
    {
     "name": "stdout",
     "output_type": "stream",
     "text": [
      "Pickle TE marca_sola_precio_encoder.pickle generado.\n"
     ]
    }
   ],
   "source": [
    "TARGET = \"precio\"\n",
    "X_train, X_test, y_train, y_test = encoding_func.dividir_dataframe(df_modelo, TARGET)\n",
    "\n",
    "encoding_func.generar_pickle_target_encoding(X_train, y_train, [ \"marca_sola\"], TARGET)"
   ]
  },
  {
   "cell_type": "code",
   "execution_count": 45,
   "metadata": {},
   "outputs": [],
   "source": [
    "with open(f\"../bin/marca_sola_precio_encoder.pickle\", \"rb\") as file:\n",
    "    marca_sola_precio_encoder = pickle.load(file)\n",
    "\n"
   ]
  },
  {
   "cell_type": "code",
   "execution_count": 46,
   "metadata": {},
   "outputs": [],
   "source": [
    "X_train[\"marca_sola\"] = marca_sola_precio_encoder.transform(X_train[\"marca_sola\"])\n",
    "\n",
    "X_test[\"marca_sola\"] = marca_sola_precio_encoder.transform(X_test[\"marca_sola\"])"
   ]
  },
  {
   "cell_type": "code",
   "execution_count": 47,
   "metadata": {},
   "outputs": [
    {
     "name": "stdout",
     "output_type": "stream",
     "text": [
      "<class 'pandas.core.frame.DataFrame'>\n",
      "Index: 15888 entries, 11818 to 15815\n",
      "Data columns (total 5 columns):\n",
      " #   Column             Non-Null Count  Dtype  \n",
      "---  ------             --------------  -----  \n",
      " 0   kilometraje        15888 non-null  float64\n",
      " 1   cambio_automatico  15888 non-null  float64\n",
      " 2   potencia           15888 non-null  float64\n",
      " 3   marca_sola         15888 non-null  float64\n",
      " 4   antiguedad         15888 non-null  int64  \n",
      "dtypes: float64(4), int64(1)\n",
      "memory usage: 744.8 KB\n"
     ]
    }
   ],
   "source": [
    "X_train.info()"
   ]
  },
  {
   "cell_type": "code",
   "execution_count": 48,
   "metadata": {},
   "outputs": [
    {
     "name": "stdout",
     "output_type": "stream",
     "text": [
      "<class 'pandas.core.frame.DataFrame'>\n",
      "Index: 3973 entries, 15224 to 9012\n",
      "Data columns (total 5 columns):\n",
      " #   Column             Non-Null Count  Dtype  \n",
      "---  ------             --------------  -----  \n",
      " 0   kilometraje        3973 non-null   float64\n",
      " 1   cambio_automatico  3973 non-null   float64\n",
      " 2   potencia           3973 non-null   float64\n",
      " 3   marca_sola         3973 non-null   float64\n",
      " 4   antiguedad         3973 non-null   int64  \n",
      "dtypes: float64(4), int64(1)\n",
      "memory usage: 186.2 KB\n"
     ]
    }
   ],
   "source": [
    "X_test.info()"
   ]
  },
  {
   "cell_type": "code",
   "execution_count": 49,
   "metadata": {},
   "outputs": [
    {
     "data": {
      "text/html": [
       "<div>\n",
       "<style scoped>\n",
       "    .dataframe tbody tr th:only-of-type {\n",
       "        vertical-align: middle;\n",
       "    }\n",
       "\n",
       "    .dataframe tbody tr th {\n",
       "        vertical-align: top;\n",
       "    }\n",
       "\n",
       "    .dataframe thead th {\n",
       "        text-align: right;\n",
       "    }\n",
       "</style>\n",
       "<table border=\"1\" class=\"dataframe\">\n",
       "  <thead>\n",
       "    <tr style=\"text-align: right;\">\n",
       "      <th></th>\n",
       "      <th>kilometraje</th>\n",
       "      <th>cambio_automatico</th>\n",
       "      <th>potencia</th>\n",
       "      <th>marca_sola</th>\n",
       "      <th>antiguedad</th>\n",
       "    </tr>\n",
       "  </thead>\n",
       "  <tbody>\n",
       "    <tr>\n",
       "      <th>11818</th>\n",
       "      <td>9.588777</td>\n",
       "      <td>0.0</td>\n",
       "      <td>4.875197</td>\n",
       "      <td>9.757617</td>\n",
       "      <td>1</td>\n",
       "    </tr>\n",
       "    <tr>\n",
       "      <th>8769</th>\n",
       "      <td>11.365086</td>\n",
       "      <td>0.0</td>\n",
       "      <td>4.615121</td>\n",
       "      <td>9.854138</td>\n",
       "      <td>22</td>\n",
       "    </tr>\n",
       "    <tr>\n",
       "      <th>3254</th>\n",
       "      <td>2.397895</td>\n",
       "      <td>1.0</td>\n",
       "      <td>5.416100</td>\n",
       "      <td>9.562919</td>\n",
       "      <td>1</td>\n",
       "    </tr>\n",
       "  </tbody>\n",
       "</table>\n",
       "</div>"
      ],
      "text/plain": [
       "       kilometraje  cambio_automatico  potencia  marca_sola  antiguedad\n",
       "11818     9.588777                0.0  4.875197    9.757617           1\n",
       "8769     11.365086                0.0  4.615121    9.854138          22\n",
       "3254      2.397895                1.0  5.416100    9.562919           1"
      ]
     },
     "execution_count": 49,
     "metadata": {},
     "output_type": "execute_result"
    }
   ],
   "source": [
    "X_train.head(3)"
   ]
  },
  {
   "cell_type": "code",
   "execution_count": 50,
   "metadata": {},
   "outputs": [],
   "source": [
    "scaler = MinMaxScaler()\n",
    "scaler.set_output(transform=\"pandas\")\n",
    "\n",
    "X_train_escalado = pd.DataFrame(scaler.fit_transform(X_train), columns=X_train.columns)\n",
    "X_test_escalado = pd.DataFrame(scaler.transform(X_test), columns=X_test.columns)\n",
    "\n",
    "with open(f\"../bin/min_max_scaler.pickle\", \"wb\") as file:\n",
    "    pickle.dump(scaler, file)"
   ]
  },
  {
   "cell_type": "code",
   "execution_count": 52,
   "metadata": {},
   "outputs": [
    {
     "data": {
      "text/html": [
       "<div>\n",
       "<style scoped>\n",
       "    .dataframe tbody tr th:only-of-type {\n",
       "        vertical-align: middle;\n",
       "    }\n",
       "\n",
       "    .dataframe tbody tr th {\n",
       "        vertical-align: top;\n",
       "    }\n",
       "\n",
       "    .dataframe thead th {\n",
       "        text-align: right;\n",
       "    }\n",
       "</style>\n",
       "<table border=\"1\" class=\"dataframe\">\n",
       "  <thead>\n",
       "    <tr style=\"text-align: right;\">\n",
       "      <th></th>\n",
       "      <th>kilometraje</th>\n",
       "      <th>cambio_automatico</th>\n",
       "      <th>potencia</th>\n",
       "      <th>marca_sola</th>\n",
       "      <th>antiguedad</th>\n",
       "    </tr>\n",
       "  </thead>\n",
       "  <tbody>\n",
       "    <tr>\n",
       "      <th>11818</th>\n",
       "      <td>0.748197</td>\n",
       "      <td>0.0</td>\n",
       "      <td>0.519865</td>\n",
       "      <td>0.181552</td>\n",
       "      <td>0.033333</td>\n",
       "    </tr>\n",
       "    <tr>\n",
       "      <th>8769</th>\n",
       "      <td>0.886800</td>\n",
       "      <td>0.0</td>\n",
       "      <td>0.465288</td>\n",
       "      <td>0.235092</td>\n",
       "      <td>0.733333</td>\n",
       "    </tr>\n",
       "    <tr>\n",
       "      <th>3254</th>\n",
       "      <td>0.187104</td>\n",
       "      <td>1.0</td>\n",
       "      <td>0.633375</td>\n",
       "      <td>0.073555</td>\n",
       "      <td>0.033333</td>\n",
       "    </tr>\n",
       "    <tr>\n",
       "      <th>16464</th>\n",
       "      <td>0.866629</td>\n",
       "      <td>1.0</td>\n",
       "      <td>0.506642</td>\n",
       "      <td>0.302464</td>\n",
       "      <td>0.100000</td>\n",
       "    </tr>\n",
       "    <tr>\n",
       "      <th>5659</th>\n",
       "      <td>0.867135</td>\n",
       "      <td>0.0</td>\n",
       "      <td>0.494346</td>\n",
       "      <td>0.310013</td>\n",
       "      <td>0.266667</td>\n",
       "    </tr>\n",
       "    <tr>\n",
       "      <th>...</th>\n",
       "      <td>...</td>\n",
       "      <td>...</td>\n",
       "      <td>...</td>\n",
       "      <td>...</td>\n",
       "      <td>...</td>\n",
       "    </tr>\n",
       "    <tr>\n",
       "      <th>11297</th>\n",
       "      <td>0.854476</td>\n",
       "      <td>0.0</td>\n",
       "      <td>0.465288</td>\n",
       "      <td>0.233676</td>\n",
       "      <td>0.166667</td>\n",
       "    </tr>\n",
       "    <tr>\n",
       "      <th>11977</th>\n",
       "      <td>0.746583</td>\n",
       "      <td>1.0</td>\n",
       "      <td>0.529263</td>\n",
       "      <td>0.181552</td>\n",
       "      <td>0.033333</td>\n",
       "    </tr>\n",
       "    <tr>\n",
       "      <th>5396</th>\n",
       "      <td>0.916986</td>\n",
       "      <td>1.0</td>\n",
       "      <td>0.627703</td>\n",
       "      <td>0.302464</td>\n",
       "      <td>0.200000</td>\n",
       "    </tr>\n",
       "    <tr>\n",
       "      <th>860</th>\n",
       "      <td>0.812817</td>\n",
       "      <td>0.0</td>\n",
       "      <td>0.454633</td>\n",
       "      <td>0.000000</td>\n",
       "      <td>0.100000</td>\n",
       "    </tr>\n",
       "    <tr>\n",
       "      <th>15815</th>\n",
       "      <td>0.798712</td>\n",
       "      <td>1.0</td>\n",
       "      <td>0.657988</td>\n",
       "      <td>0.491206</td>\n",
       "      <td>0.200000</td>\n",
       "    </tr>\n",
       "  </tbody>\n",
       "</table>\n",
       "<p>15888 rows × 5 columns</p>\n",
       "</div>"
      ],
      "text/plain": [
       "       kilometraje  cambio_automatico  potencia  marca_sola  antiguedad\n",
       "11818     0.748197                0.0  0.519865    0.181552    0.033333\n",
       "8769      0.886800                0.0  0.465288    0.235092    0.733333\n",
       "3254      0.187104                1.0  0.633375    0.073555    0.033333\n",
       "16464     0.866629                1.0  0.506642    0.302464    0.100000\n",
       "5659      0.867135                0.0  0.494346    0.310013    0.266667\n",
       "...            ...                ...       ...         ...         ...\n",
       "11297     0.854476                0.0  0.465288    0.233676    0.166667\n",
       "11977     0.746583                1.0  0.529263    0.181552    0.033333\n",
       "5396      0.916986                1.0  0.627703    0.302464    0.200000\n",
       "860       0.812817                0.0  0.454633    0.000000    0.100000\n",
       "15815     0.798712                1.0  0.657988    0.491206    0.200000\n",
       "\n",
       "[15888 rows x 5 columns]"
      ]
     },
     "execution_count": 52,
     "metadata": {},
     "output_type": "execute_result"
    }
   ],
   "source": [
    "X_train_escalado"
   ]
  }
 ],
 "metadata": {
  "kernelspec": {
   "display_name": ".venv",
   "language": "python",
   "name": "python3"
  },
  "language_info": {
   "codemirror_mode": {
    "name": "ipython",
    "version": 3
   },
   "file_extension": ".py",
   "mimetype": "text/x-python",
   "name": "python",
   "nbconvert_exporter": "python",
   "pygments_lexer": "ipython3",
   "version": "3.12.4"
  }
 },
 "nbformat": 4,
 "nbformat_minor": 2
}
